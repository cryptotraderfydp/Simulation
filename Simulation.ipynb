{
 "cells": [
  {
   "cell_type": "code",
   "execution_count": 19,
   "metadata": {},
   "outputs": [],
   "source": [
    "from binance.client import Client\n",
    "import numpy as np\n",
    "import matplotlib.pyplot as plt"
   ]
  },
  {
   "cell_type": "code",
   "execution_count": 43,
   "metadata": {},
   "outputs": [],
   "source": [
    "def moving_avg(price, last_N):\n",
    "    moving_n_list = []\n",
    "    for i in range(len(price)):\n",
    "        if i < last_N - 1:\n",
    "            moving_n_list.append(0)\n",
    "        else:\n",
    "            avg = np.sum(price[i-last_N+1: i+1])/last_N\n",
    "            moving_n_list.append(avg)\n",
    "    \n",
    "    return moving_n_list"
   ]
  },
  {
   "cell_type": "code",
   "execution_count": 143,
   "metadata": {},
   "outputs": [],
   "source": [
    "binance_apikey = \"NO6lO6XQ59PVIp8Ijhn2eaWEL9IBybGAs8ak5LkgXcD5s0Blw5rKuFamxdy79iBk\"\n",
    "secret_key = \"iTxINdppkNlYWyhuiVxml2BdOLovEE0Ds3ZyOIX7l2hMrKW7aQKBhbaiV3KJQaII\"\n",
    "client = Client(binance_apikey, secret_key)\n",
    "depth = client.get_order_book(symbol='BNBBTC')\n",
    "candles = client.get_klines(symbol='BNBBTC', interval='1h')"
   ]
  },
  {
   "cell_type": "code",
   "execution_count": 144,
   "metadata": {},
   "outputs": [],
   "source": [
    "close_price = [float(item[4]) for item in candles]\n",
    "moving_5 = []\n",
    "moving_25 = []\n",
    "moving_5 = moving_avg(close_price, 5)\n",
    "moving_25 = moving_avg(close_price, 25)            \n",
    "            \n",
    "    "
   ]
  },
  {
   "cell_type": "code",
   "execution_count": 145,
   "metadata": {},
   "outputs": [
    {
     "data": {
      "image/png": "[encoded data removed]",
      "text/plain": [
       "<Figure size 432x288 with 1 Axes>"
      ]
     },
     "metadata": {},
     "output_type": "display_data"
    },
    {
     "data": {
      "text/plain": [
       "<Figure size 360x1440 with 0 Axes>"
      ]
     },
     "metadata": {},
     "output_type": "display_data"
    }
   ],
   "source": [
    "plt.plot(moving_5[30:])\n",
    "plt.plot(moving_25[30:])\n",
    "plt.figure(figsize=[5,20])\n",
    "plt.show()"
   ]
  },
  {
   "cell_type": "code",
   "execution_count": 146,
   "metadata": {},
   "outputs": [],
   "source": [
    "def MovingAverageStrategy(avg_5, avg_25, last_status):\n",
    "    \n",
    "    if last_status == \"idle\":\n",
    "        if avg_5 > avg_25:\n",
    "            current = \"up\"\n",
    "            strategy = \"Hold\"\n",
    "        elif avg_5 < avg_25:\n",
    "            current = \"down\"\n",
    "            strategy = \"Hold\"\n",
    "        else:\n",
    "            current = \"idle\"\n",
    "            strategy = \"Hold\"\n",
    "    elif last_status == \"up\":\n",
    "        if avg_5 < avg_25:\n",
    "            current = \"down\"\n",
    "            strategy = \"Sell\"\n",
    "        else:\n",
    "            current = \"up\"\n",
    "            strategy = \"Hold\"\n",
    "    elif last_status == \"down\":\n",
    "        if avg_5 > avg_25:\n",
    "            current = \"up\"\n",
    "            strategy = \"Buy\"\n",
    "        else:\n",
    "            current = \"down\"\n",
    "            strategy = \"Hold\"\n",
    "    \n",
    "    return current, strategy\n",
    "\n",
    "def take_action(my_money, my_coin, coin_price, strategy, avg5, avg25):\n",
    "    diff = abs(avg5 - avg25)\n",
    "    if strategy == \"Buy\":\n",
    "        if my_money > 0:\n",
    "            save_coin = my_coin\n",
    "            coin_number = my_money/coin_price\n",
    "            my_coin = [coin_number, coin_price]\n",
    "#             my_money -= coin_number*coin_price\n",
    "            if coin_price*0.00075 < diff:\n",
    "                my_money -= coin_number*coin_price*(1+0.00075)\n",
    "                print(\"Buy\")\n",
    "                print(\"coin number:\" + str(my_coin[0]) + \" Buy Price:\" + str(coin_price))\n",
    "            else:\n",
    "                my_coin = save_coin\n",
    "#             print()\n",
    "\n",
    "    elif strategy == \"Sell\":\n",
    "        if my_coin[0] > 0 and coin_price*0.00075 < diff:\n",
    "            my_money += coin_price*my_coin[0] * (1-0.00075)\n",
    "            my_coin = [0, 0]\n",
    "            print(\"Sell\")\n",
    "            print(\"money:\" + str(my_money) + \" Sell Price:\" + str(coin_price))\n",
    "#             print(\"coin number:\" + str(my_coin[0]))\n",
    "            \n",
    "    return my_money, my_coin\n",
    "            \n",
    "            "
   ]
  },
  {
   "cell_type": "code",
   "execution_count": 147,
   "metadata": {},
   "outputs": [
    {
     "name": "stdout",
     "output_type": "stream",
     "text": [
      "Buy\n",
      "coin number:53126.49418264889 Buy Price:0.0018823\n",
      "Sell\n",
      "money:101.93630531796207 Sell Price:0.0019216\n",
      "Buy\n",
      "coin number:51576.75840819776 Buy Price:0.0019764\n",
      "Sell\n",
      "money:102.6492405340869 Sell Price:0.0019932\n",
      "Buy\n",
      "coin number:50748.623391549365 Buy Price:0.0020227\n",
      "Sell\n",
      "money:101.66868451392448 Sell Price:0.0020064\n",
      "Buy\n",
      "coin number:50938.766728756185 Buy Price:0.0019959\n",
      "Sell\n",
      "money:103.86778748175495 Sell Price:0.0020421\n",
      "Buy\n",
      "coin number:51000.583070683955 Buy Price:0.0020366\n",
      "Sell\n",
      "money:103.32467207251861 Sell Price:0.002029\n",
      "Buy\n",
      "coin number:52935.4332048356 Buy Price:0.0019519\n"
     ]
    }
   ],
   "source": [
    "last_status = \"idle\"\n",
    "my_money = 100\n",
    "my_coin = [0,0]\n",
    "for i in range(30, len(close_price)):\n",
    "    last_status, strategy = MovingAverageStrategy(moving_5[i], moving_25[i], last_status)\n",
    "    my_money, my_coin = take_action(my_money, my_coin, close_price[i], strategy, moving_5[i], moving_25[i])\n",
    "    \n",
    "   "
   ]
  },
  {
   "cell_type": "code",
   "execution_count": null,
   "metadata": {},
   "outputs": [],
   "source": []
  },
  {
   "cell_type": "code",
   "execution_count": null,
   "metadata": {},
   "outputs": [],
   "source": []
  },
  {
   "cell_type": "code",
   "execution_count": null,
   "metadata": {},
   "outputs": [],
   "source": []
  },
  {
   "cell_type": "code",
   "execution_count": null,
   "metadata": {},
   "outputs": [],
   "source": []
  },
  {
   "cell_type": "code",
   "execution_count": null,
   "metadata": {},
   "outputs": [],
   "source": []
  },
  {
   "cell_type": "code",
   "execution_count": null,
   "metadata": {},
   "outputs": [],
   "source": []
  }
 ],
 "metadata": {
  "kernelspec": {
   "display_name": "Python 3",
   "language": "python",
   "name": "python3"
  },
  "language_info": {
   "codemirror_mode": {
    "name": "ipython",
    "version": 3
   },
   "file_extension": ".py",
   "mimetype": "text/x-python",
   "name": "python",
   "nbconvert_exporter": "python",
   "pygments_lexer": "ipython3",
   "version": "3.7.0"
  }
 },
 "nbformat": 4,
 "nbformat_minor": 4
}
