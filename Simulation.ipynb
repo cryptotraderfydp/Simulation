{
 "cells": [
  {
   "cell_type": "code",
   "execution_count": 148,
   "metadata": {},
   "outputs": [],
   "source": [
    "from binance.client import Client\n",
    "import numpy as np\n",
    "import matplotlib.pyplot as plt"
   ]
  },
  {
   "cell_type": "code",
   "execution_count": 149,
   "metadata": {},
   "outputs": [],
   "source": [
    "def moving_avg(price, last_N):\n",
    "    moving_n_list = []\n",
    "    for i in range(len(price)):\n",
    "        if i < last_N - 1:\n",
    "            moving_n_list.append(0)\n",
    "        else:\n",
    "            avg = np.sum(price[i-last_N+1: i+1])/last_N\n",
    "            moving_n_list.append(avg)\n",
    "    \n",
    "    return moving_n_list"
   ]
  },
  {
   "cell_type": "code",
   "execution_count": 224,
   "metadata": {},
   "outputs": [],
   "source": [
    "binance_apikey = \"NO6lO6XQ59PVIp8Ijhn2eaWEL9IBybGAs8ak5LkgXcD5s0Blw5rKuFamxdy79iBk\"\n",
    "secret_key = \"iTxINdppkNlYWyhuiVxml2BdOLovEE0Ds3ZyOIX7l2hMrKW7aQKBhbaiV3KJQaII\"\n",
    "client = Client(binance_apikey, secret_key)\n",
    "depth = client.get_order_book(symbol='BNBBTC')\n",
    "candles = client.get_klines(symbol='BNBBTC', interval='1d')"
   ]
  },
  {
   "cell_type": "code",
   "execution_count": 225,
   "metadata": {},
   "outputs": [],
   "source": [
    "close_price = [float(item[4]) for item in candles]\n",
    "moving_5 = []\n",
    "moving_25 = []\n",
    "moving_5 = moving_avg(close_price, 5)\n",
    "moving_25 = moving_avg(close_price, 25)            \n",
    "            \n",
    "    "
   ]
  },
  {
   "cell_type": "code",
   "execution_count": 226,
   "metadata": {},
   "outputs": [
    {
     "data": {
      "image/png": "[encoded data removed]",
      "text/plain": [
       "<Figure size 432x288 with 1 Axes>"
      ]
     },
     "metadata": {},
     "output_type": "display_data"
    },
    {
     "data": {
      "text/plain": [
       "<Figure size 360x1440 with 0 Axes>"
      ]
     },
     "metadata": {},
     "output_type": "display_data"
    }
   ],
   "source": [
    "plt.plot(moving_5[30:])\n",
    "plt.plot(moving_25[30:])\n",
    "plt.figure(figsize=[5,20])\n",
    "plt.show()"
   ]
  },
  {
   "cell_type": "code",
   "execution_count": 227,
   "metadata": {},
   "outputs": [],
   "source": [
    "def MovingAverageStrategy(avg_5, avg_25, last_status, coin_price):\n",
    "    diff = abs(avg_5 - avg_25) - coin_price * 0.00075\n",
    "    if last_status == \"idle\":\n",
    "        if avg_5 > avg_25:\n",
    "            current = \"up\"\n",
    "            strategy = \"Hold\"\n",
    "        elif avg_5 < avg_25:\n",
    "            current = \"down\"\n",
    "            strategy = \"Hold\"\n",
    "        else:\n",
    "            current = \"idle\"\n",
    "            strategy = \"Hold\"\n",
    "    elif last_status == \"up\":\n",
    "        if avg_5 < avg_25:\n",
    "            current = \"down\"\n",
    "            if diff > 0:\n",
    "                strategy = \"Sell\"\n",
    "            else:\n",
    "                strategy = \"Hold\"\n",
    "        else:\n",
    "            current = \"up\"\n",
    "            strategy = \"Hold\"\n",
    "    elif last_status == \"down\":\n",
    "        if avg_5 > avg_25:\n",
    "            current = \"up\"\n",
    "            if diff > 0:\n",
    "                strategy = \"Buy\"\n",
    "            else:\n",
    "                strategy = \"Hold\"\n",
    "        else:\n",
    "            current = \"down\"\n",
    "            strategy = \"Hold\"\n",
    "    \n",
    "    return current, strategy\n",
    "\n",
    "def take_action(my_money, my_coin, coin_price, strategy, avg5, avg25):\n",
    "    if strategy == \"Buy\":\n",
    "        if my_money > 0:\n",
    "            coin_number = my_money/coin_price\n",
    "            my_coin = [coin_number, coin_price]\n",
    "#             my_money -= coin_number*coin_price\n",
    "            my_money -= coin_number*coin_price*(1+0.00075)\n",
    "            print(\"Buy\")\n",
    "            print(\"coin number:\" + str(my_coin[0]) + \" Buy Price:\" + str(coin_price))\n",
    "#             print()\n",
    "\n",
    "    elif strategy == \"Sell\":\n",
    "        if my_coin[0] > 0:\n",
    "            my_money += coin_price*my_coin[0] * (1-0.00075)\n",
    "            my_coin = [0, 0]\n",
    "            print(\"Sell\")\n",
    "            print(\"money:\" + str(my_money) + \" Sell Price:\" + str(coin_price))\n",
    "#             print(\"coin number:\" + str(my_coin[0]))\n",
    "            \n",
    "    return my_money, my_coin\n",
    "            \n",
    "            "
   ]
  },
  {
   "cell_type": "code",
   "execution_count": 228,
   "metadata": {},
   "outputs": [
    {
     "name": "stdout",
     "output_type": "stream",
     "text": [
      "Buy\n",
      "coin number:66436.35397289396 Buy Price:0.0015052\n",
      "Sell\n",
      "money:98.85420209938879 Sell Price:0.0014902\n",
      "Buy\n",
      "coin number:61358.20377343975 Buy Price:0.0016111\n",
      "Sell\n",
      "money:231.87598687820392 Sell Price:0.0037831\n",
      "Buy\n",
      "coin number:50165.71911172254 Buy Price:0.0046222\n",
      "Sell\n",
      "money:199.24567983226828 Sell Price:0.0039782\n",
      "Buy\n",
      "coin number:48652.27940133038 Buy Price:0.0040953\n",
      "Sell\n",
      "money:174.6000235844768 Sell Price:0.0035945\n",
      "Buy\n",
      "coin number:60736.78073693839 Buy Price:0.0028747\n",
      "Sell\n",
      "money:162.10884107659587 Sell Price:0.0026732\n",
      "Buy\n",
      "coin number:60288.162845994964 Buy Price:0.0026889\n",
      "Sell\n",
      "money:151.6183525772523 Sell Price:0.0025188\n",
      "Buy\n",
      "coin number:74007.10332271796 Buy Price:0.0020487\n",
      "Sell\n",
      "money:163.0161162532359 Sell Price:0.0022059\n",
      "Buy\n",
      "coin number:75320.48064188694 Buy Price:0.0021643\n",
      "Sell\n",
      "money:160.14487881803498 Sell Price:0.0021294\n",
      "Buy\n",
      "coin number:84907.94699010391 Buy Price:0.0018861\n",
      "Sell\n",
      "money:165.64861831002955 Sell Price:0.0019538\n"
     ]
    }
   ],
   "source": [
    "last_status = \"idle\"\n",
    "my_money = 100\n",
    "my_coin = [0,0]\n",
    "for i in range(30, len(close_price)):\n",
    "    last_status, strategy = MovingAverageStrategy(moving_5[i], moving_25[i], last_status, close_price[i])\n",
    "    my_money, my_coin = take_action(my_money, my_coin, close_price[i], strategy, moving_5[i], moving_25[i])\n",
    "    \n",
    "   "
   ]
  },
  {
   "cell_type": "code",
   "execution_count": null,
   "metadata": {},
   "outputs": [],
   "source": []
  },
  {
   "cell_type": "code",
   "execution_count": null,
   "metadata": {},
   "outputs": [],
   "source": []
  },
  {
   "cell_type": "code",
   "execution_count": null,
   "metadata": {},
   "outputs": [],
   "source": []
  },
  {
   "cell_type": "code",
   "execution_count": null,
   "metadata": {},
   "outputs": [],
   "source": []
  },
  {
   "cell_type": "code",
   "execution_count": null,
   "metadata": {},
   "outputs": [],
   "source": []
  },
  {
   "cell_type": "code",
   "execution_count": null,
   "metadata": {},
   "outputs": [],
   "source": []
  }
 ],
 "metadata": {
  "kernelspec": {
   "display_name": "Python 3",
   "language": "python",
   "name": "python3"
  },
  "language_info": {
   "codemirror_mode": {
    "name": "ipython",
    "version": 3
   },
   "file_extension": ".py",
   "mimetype": "text/x-python",
   "name": "python",
   "nbconvert_exporter": "python",
   "pygments_lexer": "ipython3",
   "version": "3.7.0"
  }
 },
 "nbformat": 4,
 "nbformat_minor": 4
}
